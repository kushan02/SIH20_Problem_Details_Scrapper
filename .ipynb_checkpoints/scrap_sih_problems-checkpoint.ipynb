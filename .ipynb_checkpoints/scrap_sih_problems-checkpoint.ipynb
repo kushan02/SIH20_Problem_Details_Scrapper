{
 "cells": [
  {
   "cell_type": "code",
   "execution_count": null,
   "metadata": {},
   "outputs": [],
   "source": [
    "from bs4 import BeautifulSoup"
   ]
  },
  {
   "cell_type": "code",
   "execution_count": null,
   "metadata": {},
   "outputs": [],
   "source": [
    "import requests\n",
    "\n",
    "url = 'https://www.sih.gov.in/sih2020PS'\n",
    "soup = BeautifulSoup(page.content, \"html.parser\")\n",
    "pagination = soup.find(\"ul\", {\"class\":\"pagination\"}).find_all(\"li\")\n",
    "print(pagination[-2])\n",
    "last_page_count = int(pagination[-2].find(\"a\").text)\n",
    "page_list = []\n",
    "for i in range(1, last_page_count+1):\n",
    "    page = requests.get(url + '?page=' + str(i))\n",
    "    page_list.append(page)\n",
    "print(len(page_list))"
   ]
  },
  {
   "cell_type": "code",
   "execution_count": null,
   "metadata": {},
   "outputs": [],
   "source": [
    "import pprint"
   ]
  },
  {
   "cell_type": "code",
   "execution_count": null,
   "metadata": {},
   "outputs": [],
   "source": [
    "problem_list = []"
   ]
  },
  {
   "cell_type": "code",
   "execution_count": null,
   "metadata": {},
   "outputs": [],
   "source": [
    "for page in page_list:\n",
    "\n",
    "    soup = BeautifulSoup(page.content, \"html.parser\")\n",
    "\n",
    "    data_table = soup.find(id=\"table_id\")\n",
    "    rows = data_table.find(\"tbody\").find_all(\"tr\", recursive=False)\n",
    "\n",
    "    for row in rows:\n",
    "        row_data = {}\n",
    "    \n",
    "        td = row.find_all(\"td\", recursive = False)\n",
    "\n",
    "        row_data['organization'] = td[1].text.strip()\n",
    "        row_data['category'] = td[3].text.strip()\n",
    "        row_data['ps_number'] = td[4].text.strip()\n",
    "        row_data['domain'] = td[5].text.strip()\n",
    "        row_data['problem'] = {}\n",
    "        row_data['problem']['title'] = td[2].find(\"a\").text.strip()\n",
    "        problem_modal = td[2].find_all(\"tr\")\n",
    "        row_data['problem']['description'] = problem_modal[0].find(\"div\").text.strip()\n",
    "        try:\n",
    "            row_data['problem']['youtube_link'] = problem_modal[4].find(\"a\").text.strip()\n",
    "        except:\n",
    "            row_data['problem']['youtube_link'] = ''\n",
    "        try:\n",
    "            row_data['problem']['dataset_link'] = problem_modal[5].find(\"a\").text.strip()\n",
    "        except:\n",
    "            row_data['problem']['dataset_link'] = ''\n",
    "        # pprint.pprint(row_data)\n",
    "        problem_list.append(row_data)\n",
    "\n"
   ]
  },
  {
   "cell_type": "code",
   "execution_count": null,
   "metadata": {},
   "outputs": [],
   "source": [
    "print(\"Total Problems = \", len(problem_list))\n",
    "for problem in problem_list:\n",
    "    print(problem['ps_number'])"
   ]
  },
  {
   "cell_type": "code",
   "execution_count": null,
   "metadata": {},
   "outputs": [],
   "source": [
    "import pandas as pd\n",
    "\n",
    "ps_numbers = []\n",
    "organizations = []\n",
    "problem_titles = []\n",
    "problem_descriptions = []\n",
    "problem_categories = []\n",
    "problem_domains = []\n",
    "problem_youtube_links = []\n",
    "problem_dataset_links = []\n",
    "for problem in problem_list:\n",
    "    ps_numbers.append(problem['ps_number'])\n",
    "    organizations.append(problem['organization'])\n",
    "    problem_categories.append(problem['category'])\n",
    "    problem_domains.append(problem['domain'])\n",
    "    problem_descriptions.append(problem['problem']['description'])\n",
    "    problem_titles.append(problem['problem']['title'])\n",
    "    problem_youtube_links.append(problem['problem']['youtube_link'])\n",
    "    problem_dataset_links.append(problem['problem']['dataset_link'])\n",
    "    \n",
    "df = pd.DataFrame({'PS Number': ps_numbers, 'Category': problem_categories, 'Domain': problem_domains, 'Organization': organizations, 'Problem Title': problem_titles, 'Problem Description': problem_descriptions, 'Youtube Link': problem_youtube_links, 'Dataset Link': problem_dataset_links})\n",
    "\n",
    "df.to_excel('SIH_Problems.xlsx', sheet_name='Problem Statements', index=False)"
   ]
  }
 ],
 "metadata": {
  "kernelspec": {
   "display_name": "Python 3",
   "language": "python",
   "name": "python3"
  },
  "language_info": {
   "codemirror_mode": {
    "name": "ipython",
    "version": 3
   },
   "file_extension": ".py",
   "mimetype": "text/x-python",
   "name": "python",
   "nbconvert_exporter": "python",
   "pygments_lexer": "ipython3",
   "version": "3.7.4"
  }
 },
 "nbformat": 4,
 "nbformat_minor": 2
}
